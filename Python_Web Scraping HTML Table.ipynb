{
  "nbformat": 4,
  "nbformat_minor": 0,
  "metadata": {
    "colab": {
      "name": "Python-Web Scraping HTML Table",
      "provenance": []
    },
    "kernelspec": {
      "name": "python3",
      "display_name": "Python 3"
    },
    "language_info": {
      "name": "python"
    }
  },
  "cells": [
    {
      "cell_type": "code",
      "metadata": {
        "id": "Bfk-O__5GamU"
      },
      "source": [
        "import pandas as pd"
      ],
      "execution_count": 1,
      "outputs": []
    },
    {
      "cell_type": "code",
      "metadata": {
        "id": "rKLjBkCnGdTM"
      },
      "source": [
        "#Here's the website that we would like to scrap \n",
        "energy = \"https://markets.businessinsider.com/commodities/oil-price?type=wti\""
      ],
      "execution_count": 2,
      "outputs": []
    },
    {
      "cell_type": "code",
      "metadata": {
        "colab": {
          "base_uri": "https://localhost:8080/"
        },
        "id": "2odjzDt-Gf2J",
        "outputId": "5ff3d917-ab16-4175-b815-5bac29132119"
      },
      "source": [
        "!pip install selenium bs4"
      ],
      "execution_count": 3,
      "outputs": [
        {
          "output_type": "stream",
          "name": "stdout",
          "text": [
            "Collecting selenium\n",
            "  Downloading selenium-3.141.0-py2.py3-none-any.whl (904 kB)\n",
            "\u001b[?25l\r\u001b[K     |▍                               | 10 kB 17.6 MB/s eta 0:00:01\r\u001b[K     |▊                               | 20 kB 22.6 MB/s eta 0:00:01\r\u001b[K     |█                               | 30 kB 27.8 MB/s eta 0:00:01\r\u001b[K     |█▌                              | 40 kB 22.8 MB/s eta 0:00:01\r\u001b[K     |█▉                              | 51 kB 19.0 MB/s eta 0:00:01\r\u001b[K     |██▏                             | 61 kB 18.3 MB/s eta 0:00:01\r\u001b[K     |██▌                             | 71 kB 18.8 MB/s eta 0:00:01\r\u001b[K     |███                             | 81 kB 18.9 MB/s eta 0:00:01\r\u001b[K     |███▎                            | 92 kB 20.3 MB/s eta 0:00:01\r\u001b[K     |███▋                            | 102 kB 21.0 MB/s eta 0:00:01\r\u001b[K     |████                            | 112 kB 21.0 MB/s eta 0:00:01\r\u001b[K     |████▍                           | 122 kB 21.0 MB/s eta 0:00:01\r\u001b[K     |████▊                           | 133 kB 21.0 MB/s eta 0:00:01\r\u001b[K     |█████                           | 143 kB 21.0 MB/s eta 0:00:01\r\u001b[K     |█████▍                          | 153 kB 21.0 MB/s eta 0:00:01\r\u001b[K     |█████▉                          | 163 kB 21.0 MB/s eta 0:00:01\r\u001b[K     |██████▏                         | 174 kB 21.0 MB/s eta 0:00:01\r\u001b[K     |██████▌                         | 184 kB 21.0 MB/s eta 0:00:01\r\u001b[K     |██████▉                         | 194 kB 21.0 MB/s eta 0:00:01\r\u001b[K     |███████▎                        | 204 kB 21.0 MB/s eta 0:00:01\r\u001b[K     |███████▋                        | 215 kB 21.0 MB/s eta 0:00:01\r\u001b[K     |████████                        | 225 kB 21.0 MB/s eta 0:00:01\r\u001b[K     |████████▎                       | 235 kB 21.0 MB/s eta 0:00:01\r\u001b[K     |████████▊                       | 245 kB 21.0 MB/s eta 0:00:01\r\u001b[K     |█████████                       | 256 kB 21.0 MB/s eta 0:00:01\r\u001b[K     |█████████▍                      | 266 kB 21.0 MB/s eta 0:00:01\r\u001b[K     |█████████▉                      | 276 kB 21.0 MB/s eta 0:00:01\r\u001b[K     |██████████▏                     | 286 kB 21.0 MB/s eta 0:00:01\r\u001b[K     |██████████▌                     | 296 kB 21.0 MB/s eta 0:00:01\r\u001b[K     |██████████▉                     | 307 kB 21.0 MB/s eta 0:00:01\r\u001b[K     |███████████▎                    | 317 kB 21.0 MB/s eta 0:00:01\r\u001b[K     |███████████▋                    | 327 kB 21.0 MB/s eta 0:00:01\r\u001b[K     |████████████                    | 337 kB 21.0 MB/s eta 0:00:01\r\u001b[K     |████████████▎                   | 348 kB 21.0 MB/s eta 0:00:01\r\u001b[K     |████████████▊                   | 358 kB 21.0 MB/s eta 0:00:01\r\u001b[K     |█████████████                   | 368 kB 21.0 MB/s eta 0:00:01\r\u001b[K     |█████████████▍                  | 378 kB 21.0 MB/s eta 0:00:01\r\u001b[K     |█████████████▊                  | 389 kB 21.0 MB/s eta 0:00:01\r\u001b[K     |██████████████▏                 | 399 kB 21.0 MB/s eta 0:00:01\r\u001b[K     |██████████████▌                 | 409 kB 21.0 MB/s eta 0:00:01\r\u001b[K     |██████████████▉                 | 419 kB 21.0 MB/s eta 0:00:01\r\u001b[K     |███████████████▏                | 430 kB 21.0 MB/s eta 0:00:01\r\u001b[K     |███████████████▋                | 440 kB 21.0 MB/s eta 0:00:01\r\u001b[K     |████████████████                | 450 kB 21.0 MB/s eta 0:00:01\r\u001b[K     |████████████████▎               | 460 kB 21.0 MB/s eta 0:00:01\r\u001b[K     |████████████████▋               | 471 kB 21.0 MB/s eta 0:00:01\r\u001b[K     |█████████████████               | 481 kB 21.0 MB/s eta 0:00:01\r\u001b[K     |█████████████████▍              | 491 kB 21.0 MB/s eta 0:00:01\r\u001b[K     |█████████████████▊              | 501 kB 21.0 MB/s eta 0:00:01\r\u001b[K     |██████████████████▏             | 512 kB 21.0 MB/s eta 0:00:01\r\u001b[K     |██████████████████▌             | 522 kB 21.0 MB/s eta 0:00:01\r\u001b[K     |██████████████████▉             | 532 kB 21.0 MB/s eta 0:00:01\r\u001b[K     |███████████████████▏            | 542 kB 21.0 MB/s eta 0:00:01\r\u001b[K     |███████████████████▋            | 552 kB 21.0 MB/s eta 0:00:01\r\u001b[K     |████████████████████            | 563 kB 21.0 MB/s eta 0:00:01\r\u001b[K     |████████████████████▎           | 573 kB 21.0 MB/s eta 0:00:01\r\u001b[K     |████████████████████▋           | 583 kB 21.0 MB/s eta 0:00:01\r\u001b[K     |█████████████████████           | 593 kB 21.0 MB/s eta 0:00:01\r\u001b[K     |█████████████████████▍          | 604 kB 21.0 MB/s eta 0:00:01\r\u001b[K     |█████████████████████▊          | 614 kB 21.0 MB/s eta 0:00:01\r\u001b[K     |██████████████████████          | 624 kB 21.0 MB/s eta 0:00:01\r\u001b[K     |██████████████████████▌         | 634 kB 21.0 MB/s eta 0:00:01\r\u001b[K     |██████████████████████▉         | 645 kB 21.0 MB/s eta 0:00:01\r\u001b[K     |███████████████████████▏        | 655 kB 21.0 MB/s eta 0:00:01\r\u001b[K     |███████████████████████▌        | 665 kB 21.0 MB/s eta 0:00:01\r\u001b[K     |████████████████████████        | 675 kB 21.0 MB/s eta 0:00:01\r\u001b[K     |████████████████████████▎       | 686 kB 21.0 MB/s eta 0:00:01\r\u001b[K     |████████████████████████▋       | 696 kB 21.0 MB/s eta 0:00:01\r\u001b[K     |█████████████████████████       | 706 kB 21.0 MB/s eta 0:00:01\r\u001b[K     |█████████████████████████▍      | 716 kB 21.0 MB/s eta 0:00:01\r\u001b[K     |█████████████████████████▊      | 727 kB 21.0 MB/s eta 0:00:01\r\u001b[K     |██████████████████████████      | 737 kB 21.0 MB/s eta 0:00:01\r\u001b[K     |██████████████████████████▍     | 747 kB 21.0 MB/s eta 0:00:01\r\u001b[K     |██████████████████████████▉     | 757 kB 21.0 MB/s eta 0:00:01\r\u001b[K     |███████████████████████████▏    | 768 kB 21.0 MB/s eta 0:00:01\r\u001b[K     |███████████████████████████▌    | 778 kB 21.0 MB/s eta 0:00:01\r\u001b[K     |████████████████████████████    | 788 kB 21.0 MB/s eta 0:00:01\r\u001b[K     |████████████████████████████▎   | 798 kB 21.0 MB/s eta 0:00:01\r\u001b[K     |████████████████████████████▋   | 808 kB 21.0 MB/s eta 0:00:01\r\u001b[K     |█████████████████████████████   | 819 kB 21.0 MB/s eta 0:00:01\r\u001b[K     |█████████████████████████████▍  | 829 kB 21.0 MB/s eta 0:00:01\r\u001b[K     |█████████████████████████████▊  | 839 kB 21.0 MB/s eta 0:00:01\r\u001b[K     |██████████████████████████████  | 849 kB 21.0 MB/s eta 0:00:01\r\u001b[K     |██████████████████████████████▍ | 860 kB 21.0 MB/s eta 0:00:01\r\u001b[K     |██████████████████████████████▉ | 870 kB 21.0 MB/s eta 0:00:01\r\u001b[K     |███████████████████████████████▏| 880 kB 21.0 MB/s eta 0:00:01\r\u001b[K     |███████████████████████████████▌| 890 kB 21.0 MB/s eta 0:00:01\r\u001b[K     |███████████████████████████████▉| 901 kB 21.0 MB/s eta 0:00:01\r\u001b[K     |████████████████████████████████| 904 kB 21.0 MB/s \n",
            "\u001b[?25hRequirement already satisfied: bs4 in /usr/local/lib/python3.7/dist-packages (0.0.1)\n",
            "Requirement already satisfied: urllib3 in /usr/local/lib/python3.7/dist-packages (from selenium) (1.24.3)\n",
            "Requirement already satisfied: beautifulsoup4 in /usr/local/lib/python3.7/dist-packages (from bs4) (4.6.3)\n",
            "Installing collected packages: selenium\n",
            "Successfully installed selenium-3.141.0\n"
          ]
        }
      ]
    },
    {
      "cell_type": "code",
      "metadata": {
        "colab": {
          "base_uri": "https://localhost:8080/"
        },
        "id": "U9LMaO4ZG1Xj",
        "outputId": "88ebdf7f-41ea-4761-d529-1a6f592203bb"
      },
      "source": [
        "!apt-get update"
      ],
      "execution_count": 4,
      "outputs": [
        {
          "output_type": "stream",
          "name": "stdout",
          "text": [
            "\r0% [Working]\r            \rGet:1 http://security.ubuntu.com/ubuntu bionic-security InRelease [88.7 kB]\n",
            "Get:2 https://cloud.r-project.org/bin/linux/ubuntu bionic-cran40/ InRelease [3,626 B]\n",
            "Ign:3 https://developer.download.nvidia.com/compute/cuda/repos/ubuntu1804/x86_64  InRelease\n",
            "Get:4 http://ppa.launchpad.net/c2d4u.team/c2d4u4.0+/ubuntu bionic InRelease [15.9 kB]\n",
            "Hit:5 http://archive.ubuntu.com/ubuntu bionic InRelease\n",
            "Ign:6 https://developer.download.nvidia.com/compute/machine-learning/repos/ubuntu1804/x86_64  InRelease\n",
            "Hit:7 https://developer.download.nvidia.com/compute/cuda/repos/ubuntu1804/x86_64  Release\n",
            "Get:8 http://archive.ubuntu.com/ubuntu bionic-updates InRelease [88.7 kB]\n",
            "Hit:9 https://developer.download.nvidia.com/compute/machine-learning/repos/ubuntu1804/x86_64  Release\n",
            "Get:10 http://security.ubuntu.com/ubuntu bionic-security/main amd64 Packages [2,365 kB]\n",
            "Hit:11 http://ppa.launchpad.net/cran/libgit2/ubuntu bionic InRelease\n",
            "Get:12 http://security.ubuntu.com/ubuntu bionic-security/universe amd64 Packages [1,431 kB]\n",
            "Get:13 http://archive.ubuntu.com/ubuntu bionic-backports InRelease [74.6 kB]\n",
            "Get:14 http://ppa.launchpad.net/deadsnakes/ppa/ubuntu bionic InRelease [15.9 kB]\n",
            "Hit:15 http://ppa.launchpad.net/graphics-drivers/ppa/ubuntu bionic InRelease\n",
            "Get:16 http://ppa.launchpad.net/c2d4u.team/c2d4u4.0+/ubuntu bionic/main Sources [1,802 kB]\n",
            "Get:19 http://ppa.launchpad.net/c2d4u.team/c2d4u4.0+/ubuntu bionic/main amd64 Packages [922 kB]\n",
            "Get:20 http://archive.ubuntu.com/ubuntu bionic-updates/universe amd64 Packages [2,210 kB]\n",
            "Get:21 http://archive.ubuntu.com/ubuntu bionic-updates/main amd64 Packages [2,801 kB]\n",
            "Get:22 http://ppa.launchpad.net/deadsnakes/ppa/ubuntu bionic/main amd64 Packages [40.8 kB]\n",
            "Fetched 11.9 MB in 3s (3,669 kB/s)\n",
            "Reading package lists... Done\n"
          ]
        }
      ]
    },
    {
      "cell_type": "code",
      "metadata": {
        "colab": {
          "base_uri": "https://localhost:8080/"
        },
        "id": "tT4KISeQGimV",
        "outputId": "0ce2a1e6-8639-484b-d5c2-61f7ed6f2e7c"
      },
      "source": [
        "!apt install chromium-chromedriver"
      ],
      "execution_count": 5,
      "outputs": [
        {
          "output_type": "stream",
          "name": "stdout",
          "text": [
            "Reading package lists... Done\n",
            "Building dependency tree       \n",
            "Reading state information... Done\n",
            "The following additional packages will be installed:\n",
            "  chromium-browser chromium-browser-l10n chromium-codecs-ffmpeg-extra\n",
            "Suggested packages:\n",
            "  webaccounts-chromium-extension unity-chromium-extension\n",
            "The following NEW packages will be installed:\n",
            "  chromium-browser chromium-browser-l10n chromium-chromedriver\n",
            "  chromium-codecs-ffmpeg-extra\n",
            "0 upgraded, 4 newly installed, 0 to remove and 39 not upgraded.\n",
            "Need to get 95.4 MB of archives.\n",
            "After this operation, 323 MB of additional disk space will be used.\n",
            "Get:1 http://archive.ubuntu.com/ubuntu bionic-updates/universe amd64 chromium-codecs-ffmpeg-extra amd64 94.0.4606.71-0ubuntu0.18.04.1 [1,136 kB]\n",
            "Get:2 http://archive.ubuntu.com/ubuntu bionic-updates/universe amd64 chromium-browser amd64 94.0.4606.71-0ubuntu0.18.04.1 [85.1 MB]\n",
            "Get:3 http://archive.ubuntu.com/ubuntu bionic-updates/universe amd64 chromium-browser-l10n all 94.0.4606.71-0ubuntu0.18.04.1 [4,161 kB]\n",
            "Get:4 http://archive.ubuntu.com/ubuntu bionic-updates/universe amd64 chromium-chromedriver amd64 94.0.4606.71-0ubuntu0.18.04.1 [4,964 kB]\n",
            "Fetched 95.4 MB in 4s (23.5 MB/s)\n",
            "Selecting previously unselected package chromium-codecs-ffmpeg-extra.\n",
            "(Reading database ... 155047 files and directories currently installed.)\n",
            "Preparing to unpack .../chromium-codecs-ffmpeg-extra_94.0.4606.71-0ubuntu0.18.04.1_amd64.deb ...\n",
            "Unpacking chromium-codecs-ffmpeg-extra (94.0.4606.71-0ubuntu0.18.04.1) ...\n",
            "Selecting previously unselected package chromium-browser.\n",
            "Preparing to unpack .../chromium-browser_94.0.4606.71-0ubuntu0.18.04.1_amd64.deb ...\n",
            "Unpacking chromium-browser (94.0.4606.71-0ubuntu0.18.04.1) ...\n",
            "Selecting previously unselected package chromium-browser-l10n.\n",
            "Preparing to unpack .../chromium-browser-l10n_94.0.4606.71-0ubuntu0.18.04.1_all.deb ...\n",
            "Unpacking chromium-browser-l10n (94.0.4606.71-0ubuntu0.18.04.1) ...\n",
            "Selecting previously unselected package chromium-chromedriver.\n",
            "Preparing to unpack .../chromium-chromedriver_94.0.4606.71-0ubuntu0.18.04.1_amd64.deb ...\n",
            "Unpacking chromium-chromedriver (94.0.4606.71-0ubuntu0.18.04.1) ...\n",
            "Setting up chromium-codecs-ffmpeg-extra (94.0.4606.71-0ubuntu0.18.04.1) ...\n",
            "Setting up chromium-browser (94.0.4606.71-0ubuntu0.18.04.1) ...\n",
            "update-alternatives: using /usr/bin/chromium-browser to provide /usr/bin/x-www-browser (x-www-browser) in auto mode\n",
            "update-alternatives: using /usr/bin/chromium-browser to provide /usr/bin/gnome-www-browser (gnome-www-browser) in auto mode\n",
            "Setting up chromium-chromedriver (94.0.4606.71-0ubuntu0.18.04.1) ...\n",
            "Setting up chromium-browser-l10n (94.0.4606.71-0ubuntu0.18.04.1) ...\n",
            "Processing triggers for man-db (2.8.3-2ubuntu0.1) ...\n",
            "Processing triggers for hicolor-icon-theme (0.17-2) ...\n",
            "Processing triggers for mime-support (3.60ubuntu1) ...\n",
            "Processing triggers for libc-bin (2.27-3ubuntu1.3) ...\n",
            "/sbin/ldconfig.real: /usr/local/lib/python3.7/dist-packages/ideep4py/lib/libmkldnn.so.0 is not a symbolic link\n",
            "\n"
          ]
        }
      ]
    },
    {
      "cell_type": "code",
      "metadata": {
        "id": "XQx9Jv5bGsfq"
      },
      "source": [
        "from selenium import webdriver\n",
        "from bs4 import BeautifulSoup\n",
        "import pandas as pd"
      ],
      "execution_count": 6,
      "outputs": []
    },
    {
      "cell_type": "code",
      "metadata": {
        "id": "nIXOO7ZTHAg4"
      },
      "source": [
        "options = webdriver.ChromeOptions()\n",
        "options.add_argument('--headless')\n",
        "options.add_argument('--no-sandbox')\n",
        "options.add_argument('--disable-dev-shm-usage')"
      ],
      "execution_count": 7,
      "outputs": []
    },
    {
      "cell_type": "code",
      "metadata": {
        "id": "SG9OxryMHERf"
      },
      "source": [
        "wd = webdriver.Chrome('chromedriver',options=options)\n",
        "wd.get(energy)"
      ],
      "execution_count": 8,
      "outputs": []
    },
    {
      "cell_type": "code",
      "metadata": {
        "id": "UovqYII-HNLI"
      },
      "source": [
        "html = wd.page_source"
      ],
      "execution_count": 9,
      "outputs": []
    },
    {
      "cell_type": "code",
      "metadata": {
        "id": "Gk_5cW_vHPdj"
      },
      "source": [
        "df = pd.read_html(html)"
      ],
      "execution_count": 10,
      "outputs": []
    },
    {
      "cell_type": "code",
      "metadata": {
        "colab": {
          "base_uri": "https://localhost:8080/",
          "height": 423
        },
        "id": "6BsV-QvqHRyH",
        "outputId": "e6322187-e8dd-42f0-8397-b61f3d46f3bd"
      },
      "source": [
        "#Scrap the first table from the URL (Index of table starts from 0)\n",
        "df[0]"
      ],
      "execution_count": 11,
      "outputs": [
        {
          "output_type": "execute_result",
          "data": {
            "text/html": [
              "<div>\n",
              "<style scoped>\n",
              "    .dataframe tbody tr th:only-of-type {\n",
              "        vertical-align: middle;\n",
              "    }\n",
              "\n",
              "    .dataframe tbody tr th {\n",
              "        vertical-align: top;\n",
              "    }\n",
              "\n",
              "    .dataframe thead th {\n",
              "        text-align: right;\n",
              "    }\n",
              "</style>\n",
              "<table border=\"1\" class=\"dataframe\">\n",
              "  <thead>\n",
              "    <tr style=\"text-align: right;\">\n",
              "      <th></th>\n",
              "      <th>Name</th>\n",
              "      <th>Expiration</th>\n",
              "      <th>Price</th>\n",
              "      <th>%</th>\n",
              "      <th>Date</th>\n",
              "    </tr>\n",
              "  </thead>\n",
              "  <tbody>\n",
              "    <tr>\n",
              "      <th>0</th>\n",
              "      <td>MCL NOV21</td>\n",
              "      <td>10/19/2021</td>\n",
              "      <td>78.06</td>\n",
              "      <td>1.52</td>\n",
              "      <td>10/7/2021</td>\n",
              "    </tr>\n",
              "    <tr>\n",
              "      <th>1</th>\n",
              "      <td>CL NOV21</td>\n",
              "      <td>10/20/2021</td>\n",
              "      <td>78.14</td>\n",
              "      <td>1.56</td>\n",
              "      <td>10/7/2021</td>\n",
              "    </tr>\n",
              "    <tr>\n",
              "      <th>2</th>\n",
              "      <td>CL DEC21</td>\n",
              "      <td>11/19/2021</td>\n",
              "      <td>77.80</td>\n",
              "      <td>1.57</td>\n",
              "      <td>10/7/2021</td>\n",
              "    </tr>\n",
              "    <tr>\n",
              "      <th>3</th>\n",
              "      <td>MCL DEC21</td>\n",
              "      <td>11/19/2021</td>\n",
              "      <td>77.76</td>\n",
              "      <td>1.51</td>\n",
              "      <td>10/7/2021</td>\n",
              "    </tr>\n",
              "    <tr>\n",
              "      <th>4</th>\n",
              "      <td>CL JAN22</td>\n",
              "      <td>12/20/2021</td>\n",
              "      <td>77.30</td>\n",
              "      <td>1.54</td>\n",
              "      <td>10/7/2021</td>\n",
              "    </tr>\n",
              "    <tr>\n",
              "      <th>...</th>\n",
              "      <td>...</td>\n",
              "      <td>...</td>\n",
              "      <td>...</td>\n",
              "      <td>...</td>\n",
              "      <td>...</td>\n",
              "    </tr>\n",
              "    <tr>\n",
              "      <th>134</th>\n",
              "      <td>CL OCT31</td>\n",
              "      <td>9/22/2031</td>\n",
              "      <td>54.21</td>\n",
              "      <td>NaN</td>\n",
              "      <td>10/6/2021</td>\n",
              "    </tr>\n",
              "    <tr>\n",
              "      <th>135</th>\n",
              "      <td>CL NOV31</td>\n",
              "      <td>10/21/2031</td>\n",
              "      <td>54.30</td>\n",
              "      <td>NaN</td>\n",
              "      <td>10/6/2021</td>\n",
              "    </tr>\n",
              "    <tr>\n",
              "      <th>136</th>\n",
              "      <td>CL DEC31</td>\n",
              "      <td>11/20/2031</td>\n",
              "      <td>54.20</td>\n",
              "      <td>-1.45</td>\n",
              "      <td>8/19/2021</td>\n",
              "    </tr>\n",
              "    <tr>\n",
              "      <th>137</th>\n",
              "      <td>CL JAN32</td>\n",
              "      <td>12/19/2031</td>\n",
              "      <td>54.37</td>\n",
              "      <td>NaN</td>\n",
              "      <td>10/6/2021</td>\n",
              "    </tr>\n",
              "    <tr>\n",
              "      <th>138</th>\n",
              "      <td>CL FEB32</td>\n",
              "      <td>1/20/2032</td>\n",
              "      <td>54.54</td>\n",
              "      <td>NaN</td>\n",
              "      <td>10/6/2021</td>\n",
              "    </tr>\n",
              "  </tbody>\n",
              "</table>\n",
              "<p>139 rows × 5 columns</p>\n",
              "</div>"
            ],
            "text/plain": [
              "          Name  Expiration  Price     %       Date\n",
              "0    MCL NOV21  10/19/2021  78.06  1.52  10/7/2021\n",
              "1     CL NOV21  10/20/2021  78.14  1.56  10/7/2021\n",
              "2     CL DEC21  11/19/2021  77.80  1.57  10/7/2021\n",
              "3    MCL DEC21  11/19/2021  77.76  1.51  10/7/2021\n",
              "4     CL JAN22  12/20/2021  77.30  1.54  10/7/2021\n",
              "..         ...         ...    ...   ...        ...\n",
              "134   CL OCT31   9/22/2031  54.21   NaN  10/6/2021\n",
              "135   CL NOV31  10/21/2031  54.30   NaN  10/6/2021\n",
              "136   CL DEC31  11/20/2031  54.20 -1.45  8/19/2021\n",
              "137   CL JAN32  12/19/2031  54.37   NaN  10/6/2021\n",
              "138   CL FEB32   1/20/2032  54.54   NaN  10/6/2021\n",
              "\n",
              "[139 rows x 5 columns]"
            ]
          },
          "metadata": {},
          "execution_count": 11
        }
      ]
    },
    {
      "cell_type": "code",
      "metadata": {
        "id": "5HXcNcSCHR5N",
        "colab": {
          "base_uri": "https://localhost:8080/",
          "height": 708
        },
        "outputId": "0780e6d8-f7a7-4693-9a04-3407338984a5"
      },
      "source": [
        "#here comes the second table\n",
        "df[1]"
      ],
      "execution_count": null,
      "outputs": [
        {
          "output_type": "execute_result",
          "data": {
            "text/html": [
              "<div>\n",
              "<style scoped>\n",
              "    .dataframe tbody tr th:only-of-type {\n",
              "        vertical-align: middle;\n",
              "    }\n",
              "\n",
              "    .dataframe tbody tr th {\n",
              "        vertical-align: top;\n",
              "    }\n",
              "\n",
              "    .dataframe thead th {\n",
              "        text-align: right;\n",
              "    }\n",
              "</style>\n",
              "<table border=\"1\" class=\"dataframe\">\n",
              "  <thead>\n",
              "    <tr style=\"text-align: right;\">\n",
              "      <th></th>\n",
              "      <th>Date ▼</th>\n",
              "      <th>Open</th>\n",
              "      <th>Close</th>\n",
              "      <th>Daily High</th>\n",
              "      <th>Daily Low</th>\n",
              "    </tr>\n",
              "  </thead>\n",
              "  <tbody>\n",
              "    <tr>\n",
              "      <th>0</th>\n",
              "      <td>10/06/21</td>\n",
              "      <td>79.03</td>\n",
              "      <td>77.43</td>\n",
              "      <td>79.80</td>\n",
              "      <td>76.82</td>\n",
              "    </tr>\n",
              "    <tr>\n",
              "      <th>1</th>\n",
              "      <td>10/05/21</td>\n",
              "      <td>77.60</td>\n",
              "      <td>78.93</td>\n",
              "      <td>79.47</td>\n",
              "      <td>77.46</td>\n",
              "    </tr>\n",
              "    <tr>\n",
              "      <th>2</th>\n",
              "      <td>10/04/21</td>\n",
              "      <td>75.88</td>\n",
              "      <td>77.62</td>\n",
              "      <td>78.37</td>\n",
              "      <td>75.32</td>\n",
              "    </tr>\n",
              "    <tr>\n",
              "      <th>3</th>\n",
              "      <td>10/01/21</td>\n",
              "      <td>75.00</td>\n",
              "      <td>75.88</td>\n",
              "      <td>75.98</td>\n",
              "      <td>74.25</td>\n",
              "    </tr>\n",
              "    <tr>\n",
              "      <th>4</th>\n",
              "      <td>09/30/21</td>\n",
              "      <td>74.69</td>\n",
              "      <td>75.03</td>\n",
              "      <td>76.07</td>\n",
              "      <td>73.14</td>\n",
              "    </tr>\n",
              "    <tr>\n",
              "      <th>5</th>\n",
              "      <td>09/29/21</td>\n",
              "      <td>74.29</td>\n",
              "      <td>74.83</td>\n",
              "      <td>75.79</td>\n",
              "      <td>73.73</td>\n",
              "    </tr>\n",
              "    <tr>\n",
              "      <th>6</th>\n",
              "      <td>09/28/21</td>\n",
              "      <td>75.40</td>\n",
              "      <td>75.29</td>\n",
              "      <td>76.68</td>\n",
              "      <td>74.25</td>\n",
              "    </tr>\n",
              "    <tr>\n",
              "      <th>7</th>\n",
              "      <td>09/27/21</td>\n",
              "      <td>74.04</td>\n",
              "      <td>75.45</td>\n",
              "      <td>75.75</td>\n",
              "      <td>74.04</td>\n",
              "    </tr>\n",
              "    <tr>\n",
              "      <th>8</th>\n",
              "      <td>09/24/21</td>\n",
              "      <td>73.24</td>\n",
              "      <td>73.98</td>\n",
              "      <td>74.27</td>\n",
              "      <td>72.81</td>\n",
              "    </tr>\n",
              "    <tr>\n",
              "      <th>9</th>\n",
              "      <td>09/23/21</td>\n",
              "      <td>71.98</td>\n",
              "      <td>73.30</td>\n",
              "      <td>73.49</td>\n",
              "      <td>71.62</td>\n",
              "    </tr>\n",
              "    <tr>\n",
              "      <th>10</th>\n",
              "      <td>09/22/21</td>\n",
              "      <td>0.00</td>\n",
              "      <td>72.23</td>\n",
              "      <td>72.32</td>\n",
              "      <td>0.00</td>\n",
              "    </tr>\n",
              "    <tr>\n",
              "      <th>11</th>\n",
              "      <td>09/20/21</td>\n",
              "      <td>71.99</td>\n",
              "      <td>70.29</td>\n",
              "      <td>71.99</td>\n",
              "      <td>69.38</td>\n",
              "    </tr>\n",
              "    <tr>\n",
              "      <th>12</th>\n",
              "      <td>09/17/21</td>\n",
              "      <td>72.57</td>\n",
              "      <td>71.97</td>\n",
              "      <td>72.71</td>\n",
              "      <td>71.22</td>\n",
              "    </tr>\n",
              "    <tr>\n",
              "      <th>13</th>\n",
              "      <td>09/16/21</td>\n",
              "      <td>72.63</td>\n",
              "      <td>72.61</td>\n",
              "      <td>72.98</td>\n",
              "      <td>71.55</td>\n",
              "    </tr>\n",
              "    <tr>\n",
              "      <th>14</th>\n",
              "      <td>09/15/21</td>\n",
              "      <td>70.73</td>\n",
              "      <td>72.61</td>\n",
              "      <td>73.14</td>\n",
              "      <td>70.64</td>\n",
              "    </tr>\n",
              "    <tr>\n",
              "      <th>15</th>\n",
              "      <td>09/14/21</td>\n",
              "      <td>70.65</td>\n",
              "      <td>70.46</td>\n",
              "      <td>71.21</td>\n",
              "      <td>69.99</td>\n",
              "    </tr>\n",
              "    <tr>\n",
              "      <th>16</th>\n",
              "      <td>09/13/21</td>\n",
              "      <td>69.66</td>\n",
              "      <td>70.45</td>\n",
              "      <td>70.96</td>\n",
              "      <td>69.52</td>\n",
              "    </tr>\n",
              "    <tr>\n",
              "      <th>17</th>\n",
              "      <td>09/10/21</td>\n",
              "      <td>68.00</td>\n",
              "      <td>69.72</td>\n",
              "      <td>69.96</td>\n",
              "      <td>67.68</td>\n",
              "    </tr>\n",
              "    <tr>\n",
              "      <th>18</th>\n",
              "      <td>09/09/21</td>\n",
              "      <td>69.39</td>\n",
              "      <td>68.14</td>\n",
              "      <td>69.88</td>\n",
              "      <td>67.57</td>\n",
              "    </tr>\n",
              "    <tr>\n",
              "      <th>19</th>\n",
              "      <td>09/08/21</td>\n",
              "      <td>68.35</td>\n",
              "      <td>69.30</td>\n",
              "      <td>69.74</td>\n",
              "      <td>68.29</td>\n",
              "    </tr>\n",
              "    <tr>\n",
              "      <th>20</th>\n",
              "      <td>09/07/21</td>\n",
              "      <td>69.15</td>\n",
              "      <td>68.35</td>\n",
              "      <td>69.47</td>\n",
              "      <td>67.64</td>\n",
              "    </tr>\n",
              "  </tbody>\n",
              "</table>\n",
              "</div>"
            ],
            "text/plain": [
              "      Date ▼   Open  Close  Daily High  Daily Low\n",
              "0   10/06/21  79.03  77.43       79.80      76.82\n",
              "1   10/05/21  77.60  78.93       79.47      77.46\n",
              "2   10/04/21  75.88  77.62       78.37      75.32\n",
              "3   10/01/21  75.00  75.88       75.98      74.25\n",
              "4   09/30/21  74.69  75.03       76.07      73.14\n",
              "5   09/29/21  74.29  74.83       75.79      73.73\n",
              "6   09/28/21  75.40  75.29       76.68      74.25\n",
              "7   09/27/21  74.04  75.45       75.75      74.04\n",
              "8   09/24/21  73.24  73.98       74.27      72.81\n",
              "9   09/23/21  71.98  73.30       73.49      71.62\n",
              "10  09/22/21   0.00  72.23       72.32       0.00\n",
              "11  09/20/21  71.99  70.29       71.99      69.38\n",
              "12  09/17/21  72.57  71.97       72.71      71.22\n",
              "13  09/16/21  72.63  72.61       72.98      71.55\n",
              "14  09/15/21  70.73  72.61       73.14      70.64\n",
              "15  09/14/21  70.65  70.46       71.21      69.99\n",
              "16  09/13/21  69.66  70.45       70.96      69.52\n",
              "17  09/10/21  68.00  69.72       69.96      67.68\n",
              "18  09/09/21  69.39  68.14       69.88      67.57\n",
              "19  09/08/21  68.35  69.30       69.74      68.29\n",
              "20  09/07/21  69.15  68.35       69.47      67.64"
            ]
          },
          "metadata": {},
          "execution_count": 19
        }
      ]
    },
    {
      "cell_type": "code",
      "metadata": {
        "colab": {
          "base_uri": "https://localhost:8080/",
          "height": 174
        },
        "id": "zu7TGhK_I-5l",
        "outputId": "6eeb77ab-787d-48f0-895d-22faaa1c5d72"
      },
      "source": [
        "#The third table\n",
        "df[2]"
      ],
      "execution_count": null,
      "outputs": [
        {
          "output_type": "execute_result",
          "data": {
            "text/html": [
              "<div>\n",
              "<style scoped>\n",
              "    .dataframe tbody tr th:only-of-type {\n",
              "        vertical-align: middle;\n",
              "    }\n",
              "\n",
              "    .dataframe tbody tr th {\n",
              "        vertical-align: top;\n",
              "    }\n",
              "\n",
              "    .dataframe thead th {\n",
              "        text-align: right;\n",
              "    }\n",
              "</style>\n",
              "<table border=\"1\" class=\"dataframe\">\n",
              "  <thead>\n",
              "    <tr style=\"text-align: right;\">\n",
              "      <th></th>\n",
              "      <th>Conversion</th>\n",
              "      <th>Unnamed: 1</th>\n",
              "      <th>Oil (WTI) Price</th>\n",
              "      <th>Price</th>\n",
              "    </tr>\n",
              "  </thead>\n",
              "  <tbody>\n",
              "    <tr>\n",
              "      <th>0</th>\n",
              "      <td>1 Barrel ≈ 0,136 Tonnes of Crude Oil</td>\n",
              "      <td>NaN</td>\n",
              "      <td>Oil (WTI) Price  Per 1 Ton</td>\n",
              "      <td>566.76 USD</td>\n",
              "    </tr>\n",
              "    <tr>\n",
              "      <th>1</th>\n",
              "      <td>1 Barrel = 42 Gallons</td>\n",
              "      <td>NaN</td>\n",
              "      <td>Oil (WTI) Price  Per 1 Gallon</td>\n",
              "      <td>1.84 USD</td>\n",
              "    </tr>\n",
              "    <tr>\n",
              "      <th>2</th>\n",
              "      <td>1 Barrel ≈ 158,98 Liters</td>\n",
              "      <td>NaN</td>\n",
              "      <td>Oil (WTI) Price  Per 1 Liter</td>\n",
              "      <td>0.48 USD</td>\n",
              "    </tr>\n",
              "    <tr>\n",
              "      <th>3</th>\n",
              "      <td>1 Barrel = 336 Pint</td>\n",
              "      <td>NaN</td>\n",
              "      <td>Oil (WTI) Price  Per 1 Pint</td>\n",
              "      <td>0.23 USD</td>\n",
              "    </tr>\n",
              "  </tbody>\n",
              "</table>\n",
              "</div>"
            ],
            "text/plain": [
              "                             Conversion  ...       Price\n",
              "0  1 Barrel ≈ 0,136 Tonnes of Crude Oil  ...  566.76 USD\n",
              "1                 1 Barrel = 42 Gallons  ...    1.84 USD\n",
              "2              1 Barrel ≈ 158,98 Liters  ...    0.48 USD\n",
              "3                   1 Barrel = 336 Pint  ...    0.23 USD\n",
              "\n",
              "[4 rows x 4 columns]"
            ]
          },
          "metadata": {},
          "execution_count": 20
        }
      ]
    },
    {
      "cell_type": "code",
      "metadata": {
        "id": "fvv_Mf0CJV_1"
      },
      "source": [
        ""
      ],
      "execution_count": 11,
      "outputs": []
    }
  ]
}